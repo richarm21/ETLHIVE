{
 "cells": [
  {
   "cell_type": "markdown",
   "id": "a0650d2d",
   "metadata": {},
   "source": [
    "## Problem Statement:\n",
    "Dataset contains 4000 news headlines. We have to use neural network to predict whether the news is fake or real."
   ]
  },
  {
   "cell_type": "markdown",
   "id": "3e764d40",
   "metadata": {},
   "source": [
    "### 1. Read csv file"
   ]
  },
  {
   "cell_type": "code",
   "execution_count": 1,
   "id": "305d9fb7",
   "metadata": {},
   "outputs": [
    {
     "data": {
      "text/html": [
       "<div>\n",
       "<style scoped>\n",
       "    .dataframe tbody tr th:only-of-type {\n",
       "        vertical-align: middle;\n",
       "    }\n",
       "\n",
       "    .dataframe tbody tr th {\n",
       "        vertical-align: top;\n",
       "    }\n",
       "\n",
       "    .dataframe thead th {\n",
       "        text-align: right;\n",
       "    }\n",
       "</style>\n",
       "<table border=\"1\" class=\"dataframe\">\n",
       "  <thead>\n",
       "    <tr style=\"text-align: right;\">\n",
       "      <th></th>\n",
       "      <th>Headline</th>\n",
       "      <th>Label</th>\n",
       "    </tr>\n",
       "  </thead>\n",
       "  <tbody>\n",
       "    <tr>\n",
       "      <th>0</th>\n",
       "      <td>Four ways Bob Corker skewered Donald Trump</td>\n",
       "      <td>1</td>\n",
       "    </tr>\n",
       "    <tr>\n",
       "      <th>1</th>\n",
       "      <td>Linklater's war veteran comedy speaks to moder...</td>\n",
       "      <td>1</td>\n",
       "    </tr>\n",
       "    <tr>\n",
       "      <th>2</th>\n",
       "      <td>Trump’s Fight With Corker Jeopardizes His Legi...</td>\n",
       "      <td>1</td>\n",
       "    </tr>\n",
       "    <tr>\n",
       "      <th>3</th>\n",
       "      <td>Egypt's Cheiron wins tie-up with Pemex for Mex...</td>\n",
       "      <td>1</td>\n",
       "    </tr>\n",
       "    <tr>\n",
       "      <th>4</th>\n",
       "      <td>Jason Aldean opens 'SNL' with Vegas tribute</td>\n",
       "      <td>1</td>\n",
       "    </tr>\n",
       "    <tr>\n",
       "      <th>...</th>\n",
       "      <td>...</td>\n",
       "      <td>...</td>\n",
       "    </tr>\n",
       "    <tr>\n",
       "      <th>4004</th>\n",
       "      <td>Trends to Watch</td>\n",
       "      <td>0</td>\n",
       "    </tr>\n",
       "    <tr>\n",
       "      <th>4005</th>\n",
       "      <td>Trump Jr. Is Soon To Give A 30-Minute Speech F...</td>\n",
       "      <td>0</td>\n",
       "    </tr>\n",
       "    <tr>\n",
       "      <th>4006</th>\n",
       "      <td>Ron Paul on Trump, Anarchism &amp; the AltRight</td>\n",
       "      <td>0</td>\n",
       "    </tr>\n",
       "    <tr>\n",
       "      <th>4007</th>\n",
       "      <td>China to accept overseas trial data in bid to ...</td>\n",
       "      <td>1</td>\n",
       "    </tr>\n",
       "    <tr>\n",
       "      <th>4008</th>\n",
       "      <td>Vice President Mike Pence Leaves NFL Game Beca...</td>\n",
       "      <td>0</td>\n",
       "    </tr>\n",
       "  </tbody>\n",
       "</table>\n",
       "<p>4009 rows × 2 columns</p>\n",
       "</div>"
      ],
      "text/plain": [
       "                                               Headline  Label\n",
       "0            Four ways Bob Corker skewered Donald Trump      1\n",
       "1     Linklater's war veteran comedy speaks to moder...      1\n",
       "2     Trump’s Fight With Corker Jeopardizes His Legi...      1\n",
       "3     Egypt's Cheiron wins tie-up with Pemex for Mex...      1\n",
       "4           Jason Aldean opens 'SNL' with Vegas tribute      1\n",
       "...                                                 ...    ...\n",
       "4004                                    Trends to Watch      0\n",
       "4005  Trump Jr. Is Soon To Give A 30-Minute Speech F...      0\n",
       "4006        Ron Paul on Trump, Anarchism & the AltRight      0\n",
       "4007  China to accept overseas trial data in bid to ...      1\n",
       "4008  Vice President Mike Pence Leaves NFL Game Beca...      0\n",
       "\n",
       "[4009 rows x 2 columns]"
      ]
     },
     "execution_count": 1,
     "metadata": {},
     "output_type": "execute_result"
    }
   ],
   "source": [
    "import pandas as pd\n",
    "df = pd.read_csv(\"C:/Users/dell/Downloads/news.csv\") \n",
    "df"
   ]
  },
  {
   "cell_type": "markdown",
   "id": "ea723a0b",
   "metadata": {},
   "source": [
    "### 2. Preprocessing of Text"
   ]
  },
  {
   "cell_type": "code",
   "execution_count": 2,
   "id": "b4c0272b",
   "metadata": {},
   "outputs": [],
   "source": [
    "import re\n",
    "pre = []\n",
    "for i in df['Headline']:\n",
    "    # Step 1 : Convert to lower case\n",
    "    s = i.lower()\n",
    "    # Step 2 : Remove special characters\n",
    "    s = re.sub('[^a-z ]','',s)\n",
    "    pre.append(s)"
   ]
  },
  {
   "cell_type": "code",
   "execution_count": 3,
   "id": "42e1e653",
   "metadata": {},
   "outputs": [
    {
     "data": {
      "text/plain": [
       "['four ways bob corker skewered donald trump',\n",
       " 'linklaters war veteran comedy speaks to modern america says star',\n",
       " 'trumps fight with corker jeopardizes his legislative agenda',\n",
       " 'egypts cheiron wins tieup with pemex for mexican onshore oil field',\n",
       " 'jason aldean opens snl with vegas tribute']"
      ]
     },
     "execution_count": 3,
     "metadata": {},
     "output_type": "execute_result"
    }
   ],
   "source": [
    "#Viewing first five preprocessed headlines\n",
    "pre[0:5]"
   ]
  },
  {
   "cell_type": "code",
   "execution_count": 4,
   "id": "a920dd03",
   "metadata": {},
   "outputs": [
    {
     "data": {
      "text/html": [
       "<div>\n",
       "<style scoped>\n",
       "    .dataframe tbody tr th:only-of-type {\n",
       "        vertical-align: middle;\n",
       "    }\n",
       "\n",
       "    .dataframe tbody tr th {\n",
       "        vertical-align: top;\n",
       "    }\n",
       "\n",
       "    .dataframe thead th {\n",
       "        text-align: right;\n",
       "    }\n",
       "</style>\n",
       "<table border=\"1\" class=\"dataframe\">\n",
       "  <thead>\n",
       "    <tr style=\"text-align: right;\">\n",
       "      <th></th>\n",
       "      <th>Headline</th>\n",
       "      <th>Label</th>\n",
       "      <th>preprocessed</th>\n",
       "    </tr>\n",
       "  </thead>\n",
       "  <tbody>\n",
       "    <tr>\n",
       "      <th>0</th>\n",
       "      <td>Four ways Bob Corker skewered Donald Trump</td>\n",
       "      <td>1</td>\n",
       "      <td>four ways bob corker skewered donald trump</td>\n",
       "    </tr>\n",
       "    <tr>\n",
       "      <th>1</th>\n",
       "      <td>Linklater's war veteran comedy speaks to moder...</td>\n",
       "      <td>1</td>\n",
       "      <td>linklaters war veteran comedy speaks to modern...</td>\n",
       "    </tr>\n",
       "    <tr>\n",
       "      <th>2</th>\n",
       "      <td>Trump’s Fight With Corker Jeopardizes His Legi...</td>\n",
       "      <td>1</td>\n",
       "      <td>trumps fight with corker jeopardizes his legis...</td>\n",
       "    </tr>\n",
       "    <tr>\n",
       "      <th>3</th>\n",
       "      <td>Egypt's Cheiron wins tie-up with Pemex for Mex...</td>\n",
       "      <td>1</td>\n",
       "      <td>egypts cheiron wins tieup with pemex for mexic...</td>\n",
       "    </tr>\n",
       "    <tr>\n",
       "      <th>4</th>\n",
       "      <td>Jason Aldean opens 'SNL' with Vegas tribute</td>\n",
       "      <td>1</td>\n",
       "      <td>jason aldean opens snl with vegas tribute</td>\n",
       "    </tr>\n",
       "  </tbody>\n",
       "</table>\n",
       "</div>"
      ],
      "text/plain": [
       "                                            Headline  Label  \\\n",
       "0         Four ways Bob Corker skewered Donald Trump      1   \n",
       "1  Linklater's war veteran comedy speaks to moder...      1   \n",
       "2  Trump’s Fight With Corker Jeopardizes His Legi...      1   \n",
       "3  Egypt's Cheiron wins tie-up with Pemex for Mex...      1   \n",
       "4        Jason Aldean opens 'SNL' with Vegas tribute      1   \n",
       "\n",
       "                                        preprocessed  \n",
       "0         four ways bob corker skewered donald trump  \n",
       "1  linklaters war veteran comedy speaks to modern...  \n",
       "2  trumps fight with corker jeopardizes his legis...  \n",
       "3  egypts cheiron wins tieup with pemex for mexic...  \n",
       "4          jason aldean opens snl with vegas tribute  "
      ]
     },
     "execution_count": 4,
     "metadata": {},
     "output_type": "execute_result"
    }
   ],
   "source": [
    "#Add new column for preprocessed headlines \n",
    "df[\"preprocessed\"] = pre\n",
    "df.head()"
   ]
  },
  {
   "cell_type": "markdown",
   "id": "a7eae2c9",
   "metadata": {},
   "source": [
    "### 3. Using TFIDF Vectorizer"
   ]
  },
  {
   "cell_type": "code",
   "execution_count": 5,
   "id": "b1ffb204",
   "metadata": {},
   "outputs": [
    {
     "data": {
      "text/plain": [
       "array([[0., 0., 0., ..., 0., 0., 0.],\n",
       "       [0., 0., 0., ..., 0., 0., 0.],\n",
       "       [0., 0., 0., ..., 0., 0., 0.],\n",
       "       ...,\n",
       "       [0., 0., 0., ..., 0., 0., 0.],\n",
       "       [0., 0., 0., ..., 0., 0., 0.],\n",
       "       [0., 0., 0., ..., 0., 0., 0.]])"
      ]
     },
     "execution_count": 5,
     "metadata": {},
     "output_type": "execute_result"
    }
   ],
   "source": [
    "from sklearn.feature_extraction.text import TfidfVectorizer\n",
    "tfidf = TfidfVectorizer()\n",
    "X = tfidf.fit_transform(df['preprocessed']).toarray()\n",
    "X"
   ]
  },
  {
   "cell_type": "code",
   "execution_count": 6,
   "id": "d44a8fe1",
   "metadata": {},
   "outputs": [
    {
     "data": {
      "text/plain": [
       "(4009, 7292)"
      ]
     },
     "execution_count": 6,
     "metadata": {},
     "output_type": "execute_result"
    }
   ],
   "source": [
    "X.shape"
   ]
  },
  {
   "cell_type": "code",
   "execution_count": 7,
   "id": "e42a4df8",
   "metadata": {},
   "outputs": [],
   "source": [
    "Y = df[\"Label\"]"
   ]
  },
  {
   "cell_type": "code",
   "execution_count": 8,
   "id": "92c13572",
   "metadata": {},
   "outputs": [
    {
     "data": {
      "text/plain": [
       "0    2137\n",
       "1    1872\n",
       "Name: Label, dtype: int64"
      ]
     },
     "execution_count": 8,
     "metadata": {},
     "output_type": "execute_result"
    }
   ],
   "source": [
    "Y.value_counts()"
   ]
  },
  {
   "cell_type": "markdown",
   "id": "8e340248",
   "metadata": {},
   "source": [
    "### 4. Train-Test-Split"
   ]
  },
  {
   "cell_type": "code",
   "execution_count": 9,
   "id": "cbd8ff95",
   "metadata": {},
   "outputs": [],
   "source": [
    "from sklearn.model_selection import train_test_split\n",
    "xtrain, xtest, ytrain, ytest = train_test_split(X,Y,test_size=0.2,random_state=21)"
   ]
  },
  {
   "cell_type": "code",
   "execution_count": 10,
   "id": "d7763900",
   "metadata": {},
   "outputs": [
    {
     "data": {
      "text/plain": [
       "(3207, 7292)"
      ]
     },
     "execution_count": 10,
     "metadata": {},
     "output_type": "execute_result"
    }
   ],
   "source": [
    "xtrain.shape"
   ]
  },
  {
   "cell_type": "code",
   "execution_count": 11,
   "id": "d5972d1f",
   "metadata": {},
   "outputs": [
    {
     "data": {
      "text/plain": [
       "(802, 7292)"
      ]
     },
     "execution_count": 11,
     "metadata": {},
     "output_type": "execute_result"
    }
   ],
   "source": [
    "xtest.shape"
   ]
  },
  {
   "cell_type": "markdown",
   "id": "04b0f95d",
   "metadata": {},
   "source": [
    "### 5. Build and Train Neural Networks"
   ]
  },
  {
   "cell_type": "code",
   "execution_count": 12,
   "id": "cbac27bb",
   "metadata": {},
   "outputs": [],
   "source": [
    "from keras.models import Sequential\n",
    "from keras.layers import Dense, Dropout\n",
    "from keras.callbacks import EarlyStopping"
   ]
  },
  {
   "cell_type": "code",
   "execution_count": 13,
   "id": "9dc10826",
   "metadata": {},
   "outputs": [],
   "source": [
    "nn = Sequential()\n",
    "\n",
    "nn.add(Dense(256,input_dim=xtrain.shape[1],activation='relu'))\n",
    "nn.add(Dropout(0.6))\n",
    "\n",
    "nn.add(Dense(128,activation='relu'))\n",
    "nn.add(Dropout(0.6))\n",
    "\n",
    "nn.add(Dense(1,activation='sigmoid'))"
   ]
  },
  {
   "cell_type": "code",
   "execution_count": 14,
   "id": "38531a7b",
   "metadata": {},
   "outputs": [
    {
     "name": "stdout",
     "output_type": "stream",
     "text": [
      "Model: \"sequential\"\n",
      "_________________________________________________________________\n",
      " Layer (type)                Output Shape              Param #   \n",
      "=================================================================\n",
      " dense (Dense)               (None, 256)               1867008   \n",
      "                                                                 \n",
      " dropout (Dropout)           (None, 256)               0         \n",
      "                                                                 \n",
      " dense_1 (Dense)             (None, 128)               32896     \n",
      "                                                                 \n",
      " dropout_1 (Dropout)         (None, 128)               0         \n",
      "                                                                 \n",
      " dense_2 (Dense)             (None, 1)                 129       \n",
      "                                                                 \n",
      "=================================================================\n",
      "Total params: 1,900,033\n",
      "Trainable params: 1,900,033\n",
      "Non-trainable params: 0\n",
      "_________________________________________________________________\n"
     ]
    }
   ],
   "source": [
    "nn.summary()"
   ]
  },
  {
   "cell_type": "code",
   "execution_count": 15,
   "id": "1058cbce",
   "metadata": {},
   "outputs": [],
   "source": [
    "early_stop = EarlyStopping(monitor='val_loss',patience=25)"
   ]
  },
  {
   "cell_type": "code",
   "execution_count": 16,
   "id": "73249c29",
   "metadata": {},
   "outputs": [],
   "source": [
    "nn.compile(loss='binary_crossentropy',optimizer='adam',metrics=['accuracy'])"
   ]
  },
  {
   "cell_type": "code",
   "execution_count": 17,
   "id": "3323b556",
   "metadata": {},
   "outputs": [
    {
     "name": "stdout",
     "output_type": "stream",
     "text": [
      "Epoch 1/100\n",
      "321/321 [==============================] - 20s 50ms/step - loss: 0.6218 - accuracy: 0.6304 - val_loss: 0.4204 - val_accuracy: 0.8224\n",
      "Epoch 2/100\n",
      "321/321 [==============================] - 15s 48ms/step - loss: 0.2786 - accuracy: 0.8877 - val_loss: 0.3437 - val_accuracy: 0.8474\n",
      "Epoch 3/100\n",
      "321/321 [==============================] - 20s 63ms/step - loss: 0.0885 - accuracy: 0.9692 - val_loss: 0.3826 - val_accuracy: 0.8598\n",
      "Epoch 4/100\n",
      "321/321 [==============================] - 16s 51ms/step - loss: 0.0312 - accuracy: 0.9930 - val_loss: 0.4282 - val_accuracy: 0.8676\n",
      "Epoch 5/100\n",
      "321/321 [==============================] - 18s 56ms/step - loss: 0.0124 - accuracy: 0.9969 - val_loss: 0.4589 - val_accuracy: 0.8707\n",
      "Epoch 6/100\n",
      "321/321 [==============================] - 18s 55ms/step - loss: 0.0055 - accuracy: 0.9984 - val_loss: 0.4999 - val_accuracy: 0.8692\n",
      "Epoch 7/100\n",
      "321/321 [==============================] - 19s 59ms/step - loss: 0.0036 - accuracy: 0.9996 - val_loss: 0.5327 - val_accuracy: 0.8660\n",
      "Epoch 8/100\n",
      "321/321 [==============================] - 18s 56ms/step - loss: 0.0012 - accuracy: 1.0000 - val_loss: 0.5667 - val_accuracy: 0.8614\n",
      "Epoch 9/100\n",
      "321/321 [==============================] - 20s 62ms/step - loss: 0.0013 - accuracy: 0.9996 - val_loss: 0.5893 - val_accuracy: 0.8676\n",
      "Epoch 10/100\n",
      "321/321 [==============================] - 17s 52ms/step - loss: 8.1463e-04 - accuracy: 1.0000 - val_loss: 0.6074 - val_accuracy: 0.8660\n",
      "Epoch 11/100\n",
      "321/321 [==============================] - 18s 56ms/step - loss: 0.0025 - accuracy: 0.9996 - val_loss: 0.6056 - val_accuracy: 0.8614\n",
      "Epoch 12/100\n",
      "321/321 [==============================] - 24s 75ms/step - loss: 0.0019 - accuracy: 0.9996 - val_loss: 0.6258 - val_accuracy: 0.8645\n",
      "Epoch 13/100\n",
      "321/321 [==============================] - 19s 59ms/step - loss: 3.0546e-04 - accuracy: 1.0000 - val_loss: 0.6531 - val_accuracy: 0.8645\n",
      "Epoch 14/100\n",
      "321/321 [==============================] - 15s 47ms/step - loss: 0.0014 - accuracy: 0.9992 - val_loss: 0.6694 - val_accuracy: 0.8520\n",
      "Epoch 15/100\n",
      "321/321 [==============================] - 16s 49ms/step - loss: 0.0023 - accuracy: 0.9996 - val_loss: 0.6780 - val_accuracy: 0.8536\n",
      "Epoch 16/100\n",
      "321/321 [==============================] - 15s 48ms/step - loss: 2.3835e-04 - accuracy: 1.0000 - val_loss: 0.6890 - val_accuracy: 0.8676\n",
      "Epoch 17/100\n",
      "321/321 [==============================] - 15s 48ms/step - loss: 0.0011 - accuracy: 0.9992 - val_loss: 0.6937 - val_accuracy: 0.8583\n",
      "Epoch 18/100\n",
      "321/321 [==============================] - 16s 48ms/step - loss: 1.1771e-04 - accuracy: 1.0000 - val_loss: 0.7097 - val_accuracy: 0.8676\n",
      "Epoch 19/100\n",
      "321/321 [==============================] - 17s 53ms/step - loss: 9.4846e-04 - accuracy: 0.9996 - val_loss: 0.7497 - val_accuracy: 0.8598\n",
      "Epoch 20/100\n",
      "321/321 [==============================] - 16s 48ms/step - loss: 2.6484e-04 - accuracy: 1.0000 - val_loss: 0.7801 - val_accuracy: 0.8489\n",
      "Epoch 21/100\n",
      "321/321 [==============================] - 15s 47ms/step - loss: 3.3623e-05 - accuracy: 1.0000 - val_loss: 0.7796 - val_accuracy: 0.8567\n",
      "Epoch 22/100\n",
      "321/321 [==============================] - 15s 47ms/step - loss: 6.9758e-05 - accuracy: 1.0000 - val_loss: 0.8025 - val_accuracy: 0.8583\n",
      "Epoch 23/100\n",
      "321/321 [==============================] - 18s 55ms/step - loss: 6.3428e-05 - accuracy: 1.0000 - val_loss: 0.8341 - val_accuracy: 0.8551\n",
      "Epoch 24/100\n",
      "321/321 [==============================] - 18s 55ms/step - loss: 1.9538e-04 - accuracy: 1.0000 - val_loss: 0.8279 - val_accuracy: 0.8598\n",
      "Epoch 25/100\n",
      "321/321 [==============================] - 16s 50ms/step - loss: 1.1713e-04 - accuracy: 1.0000 - val_loss: 0.8790 - val_accuracy: 0.8489\n",
      "Epoch 26/100\n",
      "321/321 [==============================] - 16s 50ms/step - loss: 3.9443e-05 - accuracy: 1.0000 - val_loss: 0.8676 - val_accuracy: 0.8598\n",
      "Epoch 27/100\n",
      "321/321 [==============================] - 17s 54ms/step - loss: 1.0388e-05 - accuracy: 1.0000 - val_loss: 0.8800 - val_accuracy: 0.8598\n"
     ]
    }
   ],
   "source": [
    "hist = nn.fit(xtrain, ytrain,\n",
    "              validation_split=0.2,\n",
    "              batch_size=8,\n",
    "              epochs=100,\n",
    "              callbacks=[early_stop])"
   ]
  },
  {
   "cell_type": "markdown",
   "id": "d057a0ac",
   "metadata": {},
   "source": [
    "### 6. Observe learning curve"
   ]
  },
  {
   "cell_type": "code",
   "execution_count": 18,
   "id": "c53328b9",
   "metadata": {},
   "outputs": [
    {
     "data": {
      "text/plain": [
       "[<matplotlib.lines.Line2D at 0x24f5a70b430>]"
      ]
     },
     "execution_count": 18,
     "metadata": {},
     "output_type": "execute_result"
    },
    {
     "data": {
      "image/png": "[encoded data removed]",
      "text/plain": [
       "<Figure size 640x480 with 1 Axes>"
      ]
     },
     "metadata": {},
     "output_type": "display_data"
    }
   ],
   "source": [
    "import matplotlib.pyplot as plt\n",
    "plt.plot(hist.history['loss'],c='green')\n",
    "plt.plot(hist.history['val_loss'],c='red')"
   ]
  },
  {
   "cell_type": "markdown",
   "id": "b38ca727",
   "metadata": {},
   "source": [
    "### 7. Evaluate Training and Testing Data"
   ]
  },
  {
   "cell_type": "code",
   "execution_count": 19,
   "id": "323073ea",
   "metadata": {},
   "outputs": [
    {
     "name": "stdout",
     "output_type": "stream",
     "text": [
      "101/101 [==============================] - 2s 12ms/step - loss: 0.1762 - accuracy: 0.9719\n"
     ]
    },
    {
     "data": {
      "text/plain": [
       "[0.17615781724452972, 0.9719364047050476]"
      ]
     },
     "execution_count": 19,
     "metadata": {},
     "output_type": "execute_result"
    }
   ],
   "source": [
    "nn.evaluate(xtrain,ytrain)"
   ]
  },
  {
   "cell_type": "code",
   "execution_count": 20,
   "id": "d97b007a",
   "metadata": {},
   "outputs": [
    {
     "name": "stdout",
     "output_type": "stream",
     "text": [
      "26/26 [==============================] - 0s 8ms/step - loss: 0.8818 - accuracy: 0.8479\n"
     ]
    },
    {
     "data": {
      "text/plain": [
       "[0.8817975521087646, 0.8478803038597107]"
      ]
     },
     "execution_count": 20,
     "metadata": {},
     "output_type": "execute_result"
    }
   ],
   "source": [
    "nn.evaluate(xtest, ytest)"
   ]
  },
  {
   "cell_type": "markdown",
   "id": "bd1c134b",
   "metadata": {},
   "source": [
    "### 8. Predicting test values"
   ]
  },
  {
   "cell_type": "code",
   "execution_count": 21,
   "id": "ea5dd2ae",
   "metadata": {},
   "outputs": [
    {
     "name": "stdout",
     "output_type": "stream",
     "text": [
      "26/26 [==============================] - 2s 10ms/step\n"
     ]
    }
   ],
   "source": [
    "prob = nn.predict(xtest)"
   ]
  },
  {
   "cell_type": "code",
   "execution_count": 22,
   "id": "ca936f3c",
   "metadata": {},
   "outputs": [
    {
     "data": {
      "text/plain": [
       "array([[3.3964113e-11],\n",
       "       [2.5480229e-04],\n",
       "       [9.9997860e-01],\n",
       "       [9.9962747e-01],\n",
       "       [8.5253698e-01]], dtype=float32)"
      ]
     },
     "execution_count": 22,
     "metadata": {},
     "output_type": "execute_result"
    }
   ],
   "source": [
    "prob[0:5]"
   ]
  },
  {
   "cell_type": "code",
   "execution_count": 23,
   "id": "36bc384d",
   "metadata": {},
   "outputs": [],
   "source": [
    "preds = []\n",
    "for i in prob:\n",
    "    if i>=0.5:\n",
    "        preds.append(1)\n",
    "    else:\n",
    "        preds.append(0)"
   ]
  },
  {
   "cell_type": "code",
   "execution_count": 24,
   "id": "e659c049",
   "metadata": {},
   "outputs": [
    {
     "data": {
      "text/plain": [
       "[0, 0, 1, 1, 1]"
      ]
     },
     "execution_count": 24,
     "metadata": {},
     "output_type": "execute_result"
    }
   ],
   "source": [
    "preds[0:5]"
   ]
  },
  {
   "cell_type": "markdown",
   "id": "8b4f5b56",
   "metadata": {},
   "source": [
    "### 9. Evaluate testing data using sklearn metrics"
   ]
  },
  {
   "cell_type": "code",
   "execution_count": 25,
   "id": "125dbed1",
   "metadata": {},
   "outputs": [
    {
     "data": {
      "text/plain": [
       "array([[369,  62],\n",
       "       [ 60, 311]], dtype=int64)"
      ]
     },
     "execution_count": 25,
     "metadata": {},
     "output_type": "execute_result"
    }
   ],
   "source": [
    "from sklearn.metrics import confusion_matrix\n",
    "cf = confusion_matrix(ytest, preds)\n",
    "cf"
   ]
  },
  {
   "cell_type": "code",
   "execution_count": 26,
   "id": "ea1655b1",
   "metadata": {},
   "outputs": [
    {
     "data": {
      "text/plain": [
       "<AxesSubplot:>"
      ]
     },
     "execution_count": 26,
     "metadata": {},
     "output_type": "execute_result"
    },
    {
     "data": {
      "image/png": "[encoded data removed]",
      "text/plain": [
       "<Figure size 640x480 with 2 Axes>"
      ]
     },
     "metadata": {},
     "output_type": "display_data"
    }
   ],
   "source": [
    "#Visualizing confusion matrix\n",
    "import seaborn as sns\n",
    "sns.heatmap(cf,annot=True,fmt='d')"
   ]
  },
  {
   "cell_type": "code",
   "execution_count": 27,
   "id": "3b95f980",
   "metadata": {},
   "outputs": [
    {
     "name": "stdout",
     "output_type": "stream",
     "text": [
      "              precision    recall  f1-score   support\n",
      "\n",
      "           0       0.86      0.86      0.86       431\n",
      "           1       0.83      0.84      0.84       371\n",
      "\n",
      "    accuracy                           0.85       802\n",
      "   macro avg       0.85      0.85      0.85       802\n",
      "weighted avg       0.85      0.85      0.85       802\n",
      "\n"
     ]
    }
   ],
   "source": [
    "from sklearn.metrics import classification_report\n",
    "print(classification_report(ytest, preds))"
   ]
  }
 ],
 "metadata": {
  "kernelspec": {
   "display_name": "Python 3 (ipykernel)",
   "language": "python",
   "name": "python3"
  },
  "language_info": {
   "codemirror_mode": {
    "name": "ipython",
    "version": 3
   },
   "file_extension": ".py",
   "mimetype": "text/x-python",
   "name": "python",
   "nbconvert_exporter": "python",
   "pygments_lexer": "ipython3",
   "version": "3.9.13"
  }
 },
 "nbformat": 4,
 "nbformat_minor": 5
}
